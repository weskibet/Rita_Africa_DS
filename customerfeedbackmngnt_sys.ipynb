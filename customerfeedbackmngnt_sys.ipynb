{
 "cells": [
  {
   "cell_type": "markdown",
   "id": "f75ec3ba-7775-46ff-ad81-5685d7ed86c6",
   "metadata": {},
   "source": [
    "## Customer Feedback Management System"
   ]
  },
  {
   "cell_type": "markdown",
   "id": "2dd4f1b0-4ee6-4d5d-b1f8-55e6c97c96f6",
   "metadata": {
    "tags": []
   },
   "source": [
    "### Installing Pandas"
   ]
  },
  {
   "cell_type": "code",
   "execution_count": 1,
   "id": "2d12ca60-8fd4-4b9e-ac6b-159d2050c49c",
   "metadata": {
    "tags": []
   },
   "outputs": [
    {
     "name": "stdout",
     "output_type": "stream",
     "text": [
      "Requirement already satisfied: pandas in c:\\users\\lg gram\\anaconda3\\lib\\site-packages (2.0.3)\n",
      "Requirement already satisfied: python-dateutil>=2.8.2 in c:\\users\\lg gram\\anaconda3\\lib\\site-packages (from pandas) (2.8.2)\n",
      "Requirement already satisfied: pytz>=2020.1 in c:\\users\\lg gram\\anaconda3\\lib\\site-packages (from pandas) (2023.3.post1)\n",
      "Requirement already satisfied: tzdata>=2022.1 in c:\\users\\lg gram\\anaconda3\\lib\\site-packages (from pandas) (2023.3)\n",
      "Requirement already satisfied: numpy>=1.21.0 in c:\\users\\lg gram\\anaconda3\\lib\\site-packages (from pandas) (1.24.3)\n",
      "Requirement already satisfied: six>=1.5 in c:\\users\\lg gram\\anaconda3\\lib\\site-packages (from python-dateutil>=2.8.2->pandas) (1.16.0)\n",
      "Note: you may need to restart the kernel to use updated packages.\n"
     ]
    }
   ],
   "source": [
    "pip install pandas"
   ]
  },
  {
   "cell_type": "markdown",
   "id": "5a53948c-b7c7-4f06-b434-915a98310087",
   "metadata": {},
   "source": [
    "### Collecting and Storing Feedback"
   ]
  },
  {
   "cell_type": "code",
   "execution_count": 2,
   "id": "11118e41-e716-41a8-ae00-d2e02599a49b",
   "metadata": {
    "tags": []
   },
   "outputs": [],
   "source": [
    "import pandas as pd\n",
    "import csv"
   ]
  },
  {
   "cell_type": "code",
   "execution_count": 13,
   "id": "8801a509-084a-47bd-951b-66bd7d7e257c",
   "metadata": {
    "tags": []
   },
   "outputs": [
    {
     "name": "stdout",
     "output_type": "stream",
     "text": [
      "Enter the first customer's name:  Wesley\n",
      "Enter the first customer's rating (1-5):  5\n",
      "Enter the first customer's feedback:  Great service\n",
      "Enter the second customer's name:  Darlington\n",
      "Enter the second customer's rating (1-5):  5\n",
      "Enter the second customer's feedback:  Exceptional delivery\n",
      "Enter the third customer's name:  Sonia\n",
      "Enter the third customer's rating (1-5):  4\n",
      "Enter the third customer's feedback:  Best in the sector\n",
      "Enter the fourth customer's name:  Diana\n",
      "Enter the fourth customer's rating (1-5):  5\n",
      "Enter the fourth customer's feedback:  Such a steal\n",
      "Enter the fifth customer's name:  John\n",
      "Enter the fifth customer's rating (1-5):  4\n",
      "Enter the fifth customer's feedback:  Affordable service\n"
     ]
    }
   ],
   "source": [
    "# Collecting customer feedback data using input function\n",
    "# Customer 1\n",
    "customer_name1 = input(\"Enter the first customer's name: \")\n",
    "customer_rating1 = int(input(\"Enter the first customer's rating (1-5): \"))\n",
    "customer_feedback1 = input(\"Enter the first customer's feedback: \")\n",
    "\n",
    "# Customer 2\n",
    "customer_name2 = input(\"Enter the second customer's name: \")\n",
    "customer_rating2 = int(input(\"Enter the second customer's rating (1-5): \"))\n",
    "customer_feedback2 = input(\"Enter the second customer's feedback: \")\n",
    "\n",
    "# Customer 3\n",
    "customer_name3 = input(\"Enter the third customer's name: \")\n",
    "customer_rating3 = int(input(\"Enter the third customer's rating (1-5): \"))\n",
    "customer_feedback3 = input(\"Enter the third customer's feedback: \")\n",
    "\n",
    "# Customer 4\n",
    "customer_name4 = input(\"Enter the fourth customer's name: \")\n",
    "customer_rating4 = int(input(\"Enter the fourth customer's rating (1-5): \"))\n",
    "customer_feedback4 = input(\"Enter the fourth customer's feedback: \")\n",
    "\n",
    "# Customer 5\n",
    "customer_name5 = input(\"Enter the fifth customer's name: \")\n",
    "customer_rating5 = int(input(\"Enter the fifth customer's rating (1-5): \"))\n",
    "customer_feedback5 = input(\"Enter the fifth customer's feedback: \")"
   ]
  },
  {
   "cell_type": "code",
   "execution_count": 14,
   "id": "9463809f-2cde-4599-ad5f-0e6755ee7b83",
   "metadata": {
    "tags": []
   },
   "outputs": [],
   "source": [
    "# Saving the data to a CSV file\n",
    "with open('customer_feedback.csv', 'w', newline='') as file:\n",
    "    writer = csv.writer(file)\n",
    "    writer.writerow([\"Name\", \"Rating\", \"Feedback\"])\n",
    "    writer.writerow([customer_name1, customer_rating1, customer_feedback1])\n",
    "    writer.writerow([customer_name2, customer_rating2, customer_feedback2])\n",
    "    writer.writerow([customer_name3, customer_rating3, customer_feedback3])\n",
    "    writer.writerow([customer_name4, customer_rating4, customer_feedback4])\n",
    "    writer.writerow([customer_name5, customer_rating5, customer_feedback5])"
   ]
  },
  {
   "cell_type": "markdown",
   "id": "ef9d8c21-936e-4c9f-bf51-a884676a869a",
   "metadata": {},
   "source": [
    "### Reading the Data with Pandas"
   ]
  },
  {
   "cell_type": "code",
   "execution_count": 15,
   "id": "71257ec7-c6eb-406d-b8c9-8ee61f86be2d",
   "metadata": {
    "tags": []
   },
   "outputs": [
    {
     "name": "stdout",
     "output_type": "stream",
     "text": [
      "         Name  Rating              Feedback\n",
      "0      Wesley       5         Great service\n",
      "1  Darlington       5  Exceptional delivery\n",
      "2       Sonia       4    Best in the sector\n",
      "3       Diana       5          Such a steal\n",
      "4        John       4    Affordable service\n"
     ]
    }
   ],
   "source": [
    "# Reading the data from the CSV file\n",
    "\n",
    "df = pd.read_csv('customer_feedback.csv')\n",
    "\n",
    "# Displaying the collected feedback\n",
    "\n",
    "print(df)"
   ]
  },
  {
   "cell_type": "code",
   "execution_count": 16,
   "id": "977bf39d-f5fc-497e-a647-fff60e993874",
   "metadata": {
    "tags": []
   },
   "outputs": [
    {
     "name": "stdout",
     "output_type": "stream",
     "text": [
      "         Name  Rating              Feedback\n",
      "0      Wesley       5         Great service\n",
      "1  Darlington       5  Exceptional delivery\n",
      "2       Sonia       4    Best in the sector\n",
      "3       Diana       5          Such a steal\n",
      "4        John       4    Affordable service\n",
      "<class 'pandas.core.frame.DataFrame'>\n",
      "RangeIndex: 5 entries, 0 to 4\n",
      "Data columns (total 3 columns):\n",
      " #   Column    Non-Null Count  Dtype \n",
      "---  ------    --------------  ----- \n",
      " 0   Name      5 non-null      object\n",
      " 1   Rating    5 non-null      int64 \n",
      " 2   Feedback  5 non-null      object\n",
      "dtypes: int64(1), object(2)\n",
      "memory usage: 252.0+ bytes\n",
      "None\n"
     ]
    }
   ],
   "source": [
    "# Display the first few rows of the dataset\n",
    "\n",
    "print(df.head())\n",
    "\n",
    "# Display the info of the dataset\n",
    "\n",
    "print(df.info())"
   ]
  },
  {
   "cell_type": "markdown",
   "id": "96aeff13-a37d-4fec-8ac0-a057f97b453f",
   "metadata": {},
   "source": [
    "### Performing Basic Data Analysis"
   ]
  },
  {
   "cell_type": "code",
   "execution_count": 20,
   "id": "c8cb4b43-9495-4a61-9aef-3e93dc92d2a4",
   "metadata": {
    "tags": []
   },
   "outputs": [
    {
     "name": "stdout",
     "output_type": "stream",
     "text": [
      "Average Rating:  4.6\n"
     ]
    }
   ],
   "source": [
    "# Calculating total and average ratings\n",
    "total_ratings = df['Rating'].sum()\n",
    "average_rating = total_ratings / len(df)\n",
    "print(\"Average Rating: \", average_rating)"
   ]
  },
  {
   "cell_type": "code",
   "execution_count": 21,
   "id": "8e725f69-1443-43d8-93f1-473cadb31d64",
   "metadata": {
    "tags": []
   },
   "outputs": [],
   "source": [
    "# Categorizing feedback for the first customer\n",
    "# Customer 1\n",
    "if customer_rating1 >= 4 and \"Excellent\" in customer_feedback1.lower():\n",
    "    feedback_category1 = \"Very Positive\"\n",
    "elif customer_rating1 >= 3:\n",
    "    feedback_category1 = \"Positive\"\n",
    "elif customer_feedback1 == 3:\n",
    "    feedback_category1 = \"Neutral\"\n",
    "else:\n",
    "    feedback_category1 = \"Negative\"\n",
    "\n",
    "# Customer 2\n",
    "if customer_rating2 >= 4 and \"Excellent\" in customer_feedback2.lower():\n",
    "    feedback_category2 = \"Very Positive\"\n",
    "elif customer_rating2 >= 3:\n",
    "    feedback_category2 = \"Positive\"\n",
    "elif customer_feedback2 == 3:\n",
    "    feedback_category2 = \"Neutral\"\n",
    "else:\n",
    "    feedback_category2 = \"Negative\"\n",
    "\n",
    "# Customer 3\n",
    "if customer_rating3 >= 4 and \"Excellent\" in customer_feedback3.lower():\n",
    "    feedback_category3 = \"Very Positive\"\n",
    "elif customer_rating3 >= 3:\n",
    "    feedback_category3 = \"Positive\"\n",
    "elif customer_feedback3 == 3:\n",
    "    feedback_category3 = \"Neutral\"\n",
    "else:\n",
    "    feedback_category3 = \"Negative\"\n",
    "\n",
    "# Customer 4\n",
    "if customer_rating4 >= 4 and \"Excellent\" in customer_feedback4.lower():\n",
    "    feedback_category4 = \"Very Positive\"\n",
    "elif customer_rating4 >= 3:\n",
    "    feedback_category4 = \"Positive\"\n",
    "elif customer_feedback4 == 3:\n",
    "    feedback_category4 = \"Neutral\"\n",
    "else:\n",
    "    feedback_category4 = \"Negative\"\n",
    "    \n",
    "# Customer 5\n",
    "if customer_rating5 >= 4 and \"Excellent\" in customer_feedback5.lower():\n",
    "    feedback_category5 = \"Very Positive\"\n",
    "elif customer_rating5 >= 3:\n",
    "    feedback_category5 = \"Positive\"\n",
    "elif customer_feedback5 == 3:\n",
    "    feedback_category5 = \"Neutral\"\n",
    "else:\n",
    "    feedback_category5 = \"Negative\"\n",
    "    "
   ]
  },
  {
   "cell_type": "code",
   "execution_count": 22,
   "id": "768c4d21-c921-4a23-bb06-72de9511400d",
   "metadata": {
    "tags": []
   },
   "outputs": [
    {
     "name": "stdout",
     "output_type": "stream",
     "text": [
      "Feedback Categories:  ['Positive', 'Positive', 'Positive', 'Positive', 'Positive']\n"
     ]
    }
   ],
   "source": [
    "feedback_categories = [feedback_category1, feedback_category2, feedback_category3, feedback_category4, feedback_category5]\n",
    "print(\"Feedback Categories: \", feedback_categories)"
   ]
  },
  {
   "cell_type": "markdown",
   "id": "d600150a-4c82-44fc-b23c-aa2b675cea13",
   "metadata": {},
   "source": [
    "### Analyzing Feeback Comments"
   ]
  },
  {
   "cell_type": "code",
   "execution_count": 24,
   "id": "e89fe8d7-fa02-466d-881e-f7383e24ec32",
   "metadata": {
    "tags": []
   },
   "outputs": [
    {
     "name": "stdout",
     "output_type": "stream",
     "text": [
      "Count of 'service' in first feedback:  1\n",
      "Count of 'service' in second feedback:  0\n",
      "Count of 'service' in third feedback:  0\n",
      "Count of 'service' in fourth feedback:  0\n",
      "Count of 'service' in fifth feedback:  1\n"
     ]
    }
   ],
   "source": [
    "# Analyzing feedback comments\n",
    "feedback_words1 = customer_feedback1.lower().split()\n",
    "feedback_words2 = customer_feedback2.lower().split()\n",
    "feedback_words3 = customer_feedback3.lower().split()\n",
    "feedback_words4 = customer_feedback4.lower().split()\n",
    "feedback_words5 = customer_feedback5.lower().split()\n",
    "\n",
    "# Counting occurences of a specific word\n",
    "word_to_count = \"service\"\n",
    "word_count1 = feedback_words1.count(word_to_count)\n",
    "word_count2 = feedback_words3.count(word_to_count)\n",
    "word_count3 = feedback_words3.count(word_to_count)\n",
    "word_count4 = feedback_words4.count(word_to_count)\n",
    "word_count5 = feedback_words5.count(word_to_count)\n",
    "\n",
    "print(f\"Count of '{word_to_count}' in first feedback: \", word_count1)\n",
    "print(f\"Count of '{word_to_count}' in second feedback: \", word_count2)\n",
    "print(f\"Count of '{word_to_count}' in third feedback: \", word_count3)\n",
    "print(f\"Count of '{word_to_count}' in fourth feedback: \", word_count4)\n",
    "print(f\"Count of '{word_to_count}' in fifth feedback: \", word_count5)"
   ]
  },
  {
   "cell_type": "markdown",
   "id": "d47f4ff0",
   "metadata": {},
   "source": [
    "### Author\n",
    "Wesley Kirui"
   ]
  }
 ],
 "metadata": {
  "kernelspec": {
   "display_name": "Python 3 (ipykernel)",
   "language": "python",
   "name": "python3"
  },
  "language_info": {
   "codemirror_mode": {
    "name": "ipython",
    "version": 3
   },
   "file_extension": ".py",
   "mimetype": "text/x-python",
   "name": "python",
   "nbconvert_exporter": "python",
   "pygments_lexer": "ipython3",
   "version": "3.11.5"
  }
 },
 "nbformat": 4,
 "nbformat_minor": 5
}
